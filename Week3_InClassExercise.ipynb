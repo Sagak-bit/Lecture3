{
  "nbformat": 4,
  "nbformat_minor": 0,
  "metadata": {
    "colab": {
      "provenance": [],
      "include_colab_link": true
    },
    "kernelspec": {
      "name": "python3",
      "display_name": "Python 3"
    },
    "language_info": {
      "name": "python"
    }
  },
  "cells": [
    {
      "cell_type": "markdown",
      "metadata": {
        "id": "view-in-github",
        "colab_type": "text"
      },
      "source": [
        "<a href=\"https://colab.research.google.com/github/Sagak-bit/Lecture3/blob/main/Week3_InClassExercise.ipynb\" target=\"_parent\"><img src=\"https://colab.research.google.com/assets/colab-badge.svg\" alt=\"Open In Colab\"/></a>"
      ]
    },
    {
      "cell_type": "code",
      "execution_count": null,
      "metadata": {
        "colab": {
          "base_uri": "https://localhost:8080/"
        },
        "id": "xps_uB-vyPwu",
        "outputId": "56c04686-1267-4873-e78e-232084cbd738"
      },
      "outputs": [
        {
          "output_type": "stream",
          "name": "stdout",
          "text": [
            "Class Name : Cube\n",
            "└ Parameters : {'side': 2}\n",
            "Volume: 8\n",
            "Surface area: 24\n",
            "---\n",
            "Class Name : Sphere\n",
            "└ Parameters : {'radius': 3}\n",
            "Volume: 113.09733552923254\n",
            "Surface area: 113.09733552923255\n",
            "---\n",
            "Class Name : Cylinder\n",
            "└ Parameters : {'radius': 2, 'height': 5}\n",
            "Volume: 62.83185307179586\n",
            "Surface area: 87.96459430051421\n",
            "---\n"
          ]
        }
      ],
      "source": [
        "from abc import ABC, abstractmethod\n",
        "import math\n",
        "\n",
        "# TODO: Write code for Shape3D with concrete and abstract methods.\n",
        "class Shape3D:\n",
        "    # TODO: Write code for volume method.\n",
        "    @abstractmethod\n",
        "    def volume(self): pass\n",
        "    # TODO: Write code for surface_area method.\n",
        "    @abstractmethod\n",
        "    def surface_area(self): pass\n",
        "\n",
        "    # TODO: Write code for describe method. You can simply print out the instance's class name and its parameter(s).\n",
        "    def describe(self):\n",
        "        print(f\"Class Name : {self.__class__.__name__}\\n└ Parameters : {self.__dict__}\")\n",
        "\n",
        "# TODO: Write code for subclass Cube.\n",
        "class Cube(Shape3D):\n",
        "    # TODO: Complete the initializer method.\n",
        "    def __init__(self, side):\n",
        "        self.side = side\n",
        "\n",
        "    # TODO: Write code for volume method.\n",
        "    def volume(self):\n",
        "        return self.side ** 3\n",
        "\n",
        "    # TODO: Write code for surface_area method.\n",
        "    def surface_area(self):\n",
        "        return 6 * self.side ** 2\n",
        "\n",
        "# TODO: Implement subclass Sphere\n",
        "class Sphere(Shape3D):\n",
        "    # TODO: Complete the initializer method.\n",
        "    def __init__(self, radius):\n",
        "        self.radius = radius\n",
        "    # TODO: Write code for volume method.\n",
        "    def volume(self):\n",
        "        return 4.0 / 3.0 * math.pi * self. radius ** 3\n",
        "\n",
        "    # TODO: Write code for surface_area method.\n",
        "    def surface_area(self):\n",
        "        return 4.0 * math.pi * self. radius ** 2\n",
        "\n",
        "# TODO: Implement subclass Cylinder\n",
        "class Cylinder(Shape3D):\n",
        "    # TODO: Complete the initializer method.\n",
        "    def __init__(self, radius, height):\n",
        "        self.radius = radius\n",
        "        self.height = height\n",
        "    # TODO: Write code for volume method.\n",
        "    def volume(self):\n",
        "        return math.pi * self.radius ** 2 * self.height\n",
        "\n",
        "    # TODO: Write code for surface_area method.\n",
        "    def surface_area(self):\n",
        "        return 2.0 * math.pi * self.radius ** 2 + 2.0 * math.pi * self.radius * self.height\n",
        "\n",
        "# TODO: Instantiate three different objects.\n",
        "shapes = [Cube(2), Sphere(3), Cylinder(2, 5)]\n",
        "\n",
        "for s in shapes:\n",
        "    s.describe()\n",
        "    print(\"Volume:\", s.volume())\n",
        "    print(\"Surface area:\", s.surface_area())\n",
        "    print(\"---\")"
      ]
    },
    {
      "cell_type": "code",
      "source": [
        "class A:\n",
        "    def hello(self):\n",
        "        print(\"Hello from A\")\n",
        "class B(A):\n",
        "    def hello(self):\n",
        "        print(\"Hello from B\")\n",
        "        super().hello()\n",
        "class C(A):\n",
        "    def hello(self):\n",
        "        print(\"Hello from C\")\n",
        "        super().hello()\n",
        "\n",
        "class D(B, C):\n",
        "    def hello(self):\n",
        "        print(\"Hello from D\")\n",
        "        super().hello()\n",
        "\n",
        "class E(C):\n",
        "    def hello(self):\n",
        "        print(\"Hello from E\")\n",
        "        super().hello()\n",
        "\n",
        "class F(B, E):\n",
        "    def hello(self):\n",
        "        print(\"Hello from F\")\n",
        "        super().hello()\n",
        "\n",
        "print(F.mro()) # F - B - E - C - A\n",
        "\n",
        "# Python's Method Resolution Order determines the lookup path for class F\n",
        "# by exploring its parents from left to right, first adding B, then E\n",
        "# and its parent C, and finally adding the common ancestor A.\n",
        "try:\n",
        "    class X(A, B):\n",
        "        pass\n",
        "except TypeError as e:\n",
        "    print(f\"Error: {e}\")"
      ],
      "metadata": {
        "id": "Z-_NiBqh4D-0",
        "colab": {
          "base_uri": "https://localhost:8080/"
        },
        "outputId": "21484b0f-e78c-42a5-cffc-4292bb6cf2b2"
      },
      "execution_count": null,
      "outputs": [
        {
          "output_type": "stream",
          "name": "stdout",
          "text": [
            "[<class '__main__.F'>, <class '__main__.B'>, <class '__main__.E'>, <class '__main__.C'>, <class '__main__.A'>, <class 'object'>]\n",
            "Error: Cannot create a consistent method resolution\n",
            "order (MRO) for bases A, B\n"
          ]
        }
      ]
    }
  ]
}